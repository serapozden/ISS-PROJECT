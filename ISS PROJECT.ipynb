{
 "cells": [
  {
   "cell_type": "code",
   "execution_count": 1,
   "id": "1ecb8267",
   "metadata": {},
   "outputs": [],
   "source": [
    "import requests\n",
    "from datetime import datetime\n",
    "import smtplib\n",
    "import time\n",
    "from email.mime.text import MIMEText\n",
    "from email.mime.multipart import MIMEMultipart\n",
    "\n",
    "MY_EMAIL=\"serapozden922@gmail.com\"\n",
    "MY_PASSWORD=\"my_password\"\n",
    "MY_LAT=38.963745\n",
    "MY_LONG=35.243320\n"
   ]
  },
  {
   "cell_type": "code",
   "execution_count": 2,
   "id": "ae77da59",
   "metadata": {},
   "outputs": [
    {
     "name": "stdout",
     "output_type": "stream",
     "text": [
      "{'timestamp': 1703792043, 'iss_position': {'latitude': '-22.8335', 'longitude': '-106.5864'}, 'message': 'success'}\n"
     ]
    }
   ],
   "source": [
    "response=requests.get(url=\"http://api.open-notify.org/iss-now.json\")\n",
    "data=response.json()\n",
    "print(data)"
   ]
  },
  {
   "cell_type": "code",
   "execution_count": 3,
   "id": "f8ada2b7",
   "metadata": {},
   "outputs": [],
   "source": [
    "iss_longitude=float(data[\"iss_position\"][\"longitude\"])\n",
    "iss_latitude=float(data[\"iss_position\"][\"latitude\"])"
   ]
  },
  {
   "cell_type": "code",
   "execution_count": 4,
   "id": "34c15cd2",
   "metadata": {},
   "outputs": [],
   "source": [
    "def is_iss_overhead():\n",
    "     response=requests.get(url=\"http://api.open-notify.org/iss-now.json\")\n",
    "\n",
    "     data=response.json()\n",
    "\n",
    "     iss_longitude=float(data[\"iss_position\"][\"longitude\"])\n",
    "     iss_latitude=float(data[\"iss_position\"][\"latitude\"])\n",
    "\n",
    "\n",
    "     if MY_LAT -5 <= iss_latitude <=56<=MY_LAT +5 and MY_LONG -5<= iss_longitude <= MY_LONG +5:\n",
    "          return True"
   ]
  },
  {
   "cell_type": "code",
   "execution_count": 5,
   "id": "885841ac",
   "metadata": {},
   "outputs": [
    {
     "name": "stdout",
     "output_type": "stream",
     "text": [
      "(-106.5864, -22.8335)\n"
     ]
    }
   ],
   "source": [
    "iss_position=(iss_longitude,iss_latitude)\n",
    "print(iss_position)"
   ]
  },
  {
   "cell_type": "code",
   "execution_count": 6,
   "id": "d21a6c4e",
   "metadata": {},
   "outputs": [],
   "source": [
    "def is_night():\n",
    "    parameters={\n",
    "      \"lat\":MY_LAT,\n",
    "      \"lng\":MY_LONG,\n",
    "      \"formatted\":0,\n",
    "    }\n",
    "    response=requests.get(url=\"https://api.sunrise-sunset.org/json\", params=parameters)\n",
    "    response.raise_for_status()\n",
    "    data=response.json()\n",
    "    sunrise=int(data[\"results\"][\"sunrise\"].split(\"T\")[1].split(\":\")[0])\n",
    "    sunset=int(data[\"results\"][\"sunset\"].split(\"T\")[1].split(\":\")[0])\n",
    "    time_now=datetime.now().hour\n",
    "    if time_now>= sunset or time_now <=sunrise:\n",
    "        return True"
   ]
  },
  {
   "cell_type": "code",
   "execution_count": null,
   "id": "c2ca3c96",
   "metadata": {},
   "outputs": [],
   "source": [
    "User\n",
    "while True:\n",
    "    time.sleep(60)\n",
    "    if is_iss_overhead() and is_night():\n",
    "        connection = smtplib.SMTP(\"smtp.gmail.com\")\n",
    "        connection.starttls()\n",
    "        connection.login(MY_EMAIL, MY_PASSWORD)\n",
    "        connection.sendmail(\n",
    "            from_addr=MY_EMAIL,\n",
    "            to_addrs=MY_EMAIL,\n",
    "            msg=\"Subject: Look up\\n\\n The ISS is above you in the sky.\"\n",
    "        ) "
   ]
  }
 ],
 "metadata": {
  "kernelspec": {
   "display_name": "Python 3 (ipykernel)",
   "language": "python",
   "name": "python3"
  },
  "language_info": {
   "codemirror_mode": {
    "name": "ipython",
    "version": 3
   },
   "file_extension": ".py",
   "mimetype": "text/x-python",
   "name": "python",
   "nbconvert_exporter": "python",
   "pygments_lexer": "ipython3",
   "version": "3.9.13"
  }
 },
 "nbformat": 4,
 "nbformat_minor": 5
}
